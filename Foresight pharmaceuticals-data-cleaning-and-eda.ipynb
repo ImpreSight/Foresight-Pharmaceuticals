{
 "cells": [
  {
   "cell_type": "code",
   "execution_count": 1,
   "id": "c548db6b",
   "metadata": {
    "execution": {
     "iopub.execute_input": "2025-06-24T17:24:31.067286Z",
     "iopub.status.busy": "2025-06-24T17:24:31.066917Z",
     "iopub.status.idle": "2025-06-24T17:24:35.434605Z",
     "shell.execute_reply": "2025-06-24T17:24:35.433599Z"
    },
    "papermill": {
     "duration": 4.383931,
     "end_time": "2025-06-24T17:24:35.436606",
     "exception": false,
     "start_time": "2025-06-24T17:24:31.052675",
     "status": "completed"
    },
    "tags": []
   },
   "outputs": [],
   "source": [
    "# importing required python libraries for data cleaning and EDA\n",
    "import pandas as pd\n",
    "import numpy as np\n",
    "import seaborn as sns\n",
    "import matplotlib.pyplot as plt"
   ]
  },
  {
   "cell_type": "code",
   "execution_count": 2,
   "id": "188612ff",
   "metadata": {
    "execution": {
     "iopub.execute_input": "2025-06-24T17:24:35.461564Z",
     "iopub.status.busy": "2025-06-24T17:24:35.460631Z",
     "iopub.status.idle": "2025-06-24T17:24:35.690190Z",
     "shell.execute_reply": "2025-06-24T17:24:35.688727Z"
    },
    "papermill": {
     "duration": 0.243697,
     "end_time": "2025-06-24T17:24:35.691886",
     "exception": true,
     "start_time": "2025-06-24T17:24:35.448189",
     "status": "failed"
    },
    "tags": []
   },
   "outputs": [
    {
     "ename": "FileNotFoundError",
     "evalue": "[Errno 2] No such file or directory: 'Pharm-Data.xlsx'",
     "output_type": "error",
     "traceback": [
      "\u001b[0;31m---------------------------------------------------------------------------\u001b[0m",
      "\u001b[0;31mFileNotFoundError\u001b[0m                         Traceback (most recent call last)",
      "\u001b[0;32m/tmp/ipykernel_13/2100740302.py\u001b[0m in \u001b[0;36m<cell line: 0>\u001b[0;34m()\u001b[0m\n\u001b[1;32m      1\u001b[0m \u001b[0;31m# Loading the specific dataset from the Excel workbook.\u001b[0m\u001b[0;34m\u001b[0m\u001b[0;34m\u001b[0m\u001b[0m\n\u001b[0;32m----> 2\u001b[0;31m \u001b[0mdata\u001b[0m \u001b[0;34m=\u001b[0m \u001b[0mpd\u001b[0m\u001b[0;34m.\u001b[0m\u001b[0mread_excel\u001b[0m\u001b[0;34m(\u001b[0m\u001b[0;34m\"Pharm-Data.xlsx\"\u001b[0m\u001b[0;34m,\u001b[0m \u001b[0msheet_name\u001b[0m \u001b[0;34m=\u001b[0m \u001b[0;34m\"Data\"\u001b[0m\u001b[0;34m)\u001b[0m\u001b[0;34m\u001b[0m\u001b[0;34m\u001b[0m\u001b[0m\n\u001b[0m",
      "\u001b[0;32m/usr/local/lib/python3.11/dist-packages/pandas/io/excel/_base.py\u001b[0m in \u001b[0;36mread_excel\u001b[0;34m(io, sheet_name, header, names, index_col, usecols, dtype, engine, converters, true_values, false_values, skiprows, nrows, na_values, keep_default_na, na_filter, verbose, parse_dates, date_parser, date_format, thousands, decimal, comment, skipfooter, storage_options, dtype_backend, engine_kwargs)\u001b[0m\n\u001b[1;32m    493\u001b[0m     \u001b[0;32mif\u001b[0m \u001b[0;32mnot\u001b[0m \u001b[0misinstance\u001b[0m\u001b[0;34m(\u001b[0m\u001b[0mio\u001b[0m\u001b[0;34m,\u001b[0m \u001b[0mExcelFile\u001b[0m\u001b[0;34m)\u001b[0m\u001b[0;34m:\u001b[0m\u001b[0;34m\u001b[0m\u001b[0;34m\u001b[0m\u001b[0m\n\u001b[1;32m    494\u001b[0m         \u001b[0mshould_close\u001b[0m \u001b[0;34m=\u001b[0m \u001b[0;32mTrue\u001b[0m\u001b[0;34m\u001b[0m\u001b[0;34m\u001b[0m\u001b[0m\n\u001b[0;32m--> 495\u001b[0;31m         io = ExcelFile(\n\u001b[0m\u001b[1;32m    496\u001b[0m             \u001b[0mio\u001b[0m\u001b[0;34m,\u001b[0m\u001b[0;34m\u001b[0m\u001b[0;34m\u001b[0m\u001b[0m\n\u001b[1;32m    497\u001b[0m             \u001b[0mstorage_options\u001b[0m\u001b[0;34m=\u001b[0m\u001b[0mstorage_options\u001b[0m\u001b[0;34m,\u001b[0m\u001b[0;34m\u001b[0m\u001b[0;34m\u001b[0m\u001b[0m\n",
      "\u001b[0;32m/usr/local/lib/python3.11/dist-packages/pandas/io/excel/_base.py\u001b[0m in \u001b[0;36m__init__\u001b[0;34m(self, path_or_buffer, engine, storage_options, engine_kwargs)\u001b[0m\n\u001b[1;32m   1548\u001b[0m                 \u001b[0mext\u001b[0m \u001b[0;34m=\u001b[0m \u001b[0;34m\"xls\"\u001b[0m\u001b[0;34m\u001b[0m\u001b[0;34m\u001b[0m\u001b[0m\n\u001b[1;32m   1549\u001b[0m             \u001b[0;32melse\u001b[0m\u001b[0;34m:\u001b[0m\u001b[0;34m\u001b[0m\u001b[0;34m\u001b[0m\u001b[0m\n\u001b[0;32m-> 1550\u001b[0;31m                 ext = inspect_excel_format(\n\u001b[0m\u001b[1;32m   1551\u001b[0m                     \u001b[0mcontent_or_path\u001b[0m\u001b[0;34m=\u001b[0m\u001b[0mpath_or_buffer\u001b[0m\u001b[0;34m,\u001b[0m \u001b[0mstorage_options\u001b[0m\u001b[0;34m=\u001b[0m\u001b[0mstorage_options\u001b[0m\u001b[0;34m\u001b[0m\u001b[0;34m\u001b[0m\u001b[0m\n\u001b[1;32m   1552\u001b[0m                 )\n",
      "\u001b[0;32m/usr/local/lib/python3.11/dist-packages/pandas/io/excel/_base.py\u001b[0m in \u001b[0;36minspect_excel_format\u001b[0;34m(content_or_path, storage_options)\u001b[0m\n\u001b[1;32m   1400\u001b[0m         \u001b[0mcontent_or_path\u001b[0m \u001b[0;34m=\u001b[0m \u001b[0mBytesIO\u001b[0m\u001b[0;34m(\u001b[0m\u001b[0mcontent_or_path\u001b[0m\u001b[0;34m)\u001b[0m\u001b[0;34m\u001b[0m\u001b[0;34m\u001b[0m\u001b[0m\n\u001b[1;32m   1401\u001b[0m \u001b[0;34m\u001b[0m\u001b[0m\n\u001b[0;32m-> 1402\u001b[0;31m     with get_handle(\n\u001b[0m\u001b[1;32m   1403\u001b[0m         \u001b[0mcontent_or_path\u001b[0m\u001b[0;34m,\u001b[0m \u001b[0;34m\"rb\"\u001b[0m\u001b[0;34m,\u001b[0m \u001b[0mstorage_options\u001b[0m\u001b[0;34m=\u001b[0m\u001b[0mstorage_options\u001b[0m\u001b[0;34m,\u001b[0m \u001b[0mis_text\u001b[0m\u001b[0;34m=\u001b[0m\u001b[0;32mFalse\u001b[0m\u001b[0;34m\u001b[0m\u001b[0;34m\u001b[0m\u001b[0m\n\u001b[1;32m   1404\u001b[0m     ) as handle:\n",
      "\u001b[0;32m/usr/local/lib/python3.11/dist-packages/pandas/io/common.py\u001b[0m in \u001b[0;36mget_handle\u001b[0;34m(path_or_buf, mode, encoding, compression, memory_map, is_text, errors, storage_options)\u001b[0m\n\u001b[1;32m    880\u001b[0m         \u001b[0;32melse\u001b[0m\u001b[0;34m:\u001b[0m\u001b[0;34m\u001b[0m\u001b[0;34m\u001b[0m\u001b[0m\n\u001b[1;32m    881\u001b[0m             \u001b[0;31m# Binary mode\u001b[0m\u001b[0;34m\u001b[0m\u001b[0;34m\u001b[0m\u001b[0m\n\u001b[0;32m--> 882\u001b[0;31m             \u001b[0mhandle\u001b[0m \u001b[0;34m=\u001b[0m \u001b[0mopen\u001b[0m\u001b[0;34m(\u001b[0m\u001b[0mhandle\u001b[0m\u001b[0;34m,\u001b[0m \u001b[0mioargs\u001b[0m\u001b[0;34m.\u001b[0m\u001b[0mmode\u001b[0m\u001b[0;34m)\u001b[0m\u001b[0;34m\u001b[0m\u001b[0;34m\u001b[0m\u001b[0m\n\u001b[0m\u001b[1;32m    883\u001b[0m         \u001b[0mhandles\u001b[0m\u001b[0;34m.\u001b[0m\u001b[0mappend\u001b[0m\u001b[0;34m(\u001b[0m\u001b[0mhandle\u001b[0m\u001b[0;34m)\u001b[0m\u001b[0;34m\u001b[0m\u001b[0;34m\u001b[0m\u001b[0m\n\u001b[1;32m    884\u001b[0m \u001b[0;34m\u001b[0m\u001b[0m\n",
      "\u001b[0;31mFileNotFoundError\u001b[0m: [Errno 2] No such file or directory: 'Pharm-Data.xlsx'"
     ]
    }
   ],
   "source": [
    "# Loading the specific dataset from the Excel workbook.\n",
    "data = pd.read_excel(\"Pharm-Data.xlsx\", sheet_name = \"Data\")"
   ]
  },
  {
   "cell_type": "code",
   "execution_count": null,
   "id": "7634223d",
   "metadata": {
    "papermill": {
     "duration": null,
     "end_time": null,
     "exception": null,
     "start_time": null,
     "status": "pending"
    },
    "tags": []
   },
   "outputs": [],
   "source": [
    "# dataset into a dataframe.\n",
    "df = pd.DataFrame(data)\n",
    "df.head()"
   ]
  },
  {
   "cell_type": "code",
   "execution_count": null,
   "id": "fc06e947",
   "metadata": {
    "papermill": {
     "duration": null,
     "end_time": null,
     "exception": null,
     "start_time": null,
     "status": "pending"
    },
    "tags": []
   },
   "outputs": [],
   "source": [
    "df.shape"
   ]
  },
  {
   "cell_type": "markdown",
   "id": "611b3165",
   "metadata": {
    "papermill": {
     "duration": null,
     "end_time": null,
     "exception": null,
     "start_time": null,
     "status": "pending"
    },
    "tags": []
   },
   "source": [
    "#### the dataset has 254,082 rows and 18 columns"
   ]
  },
  {
   "cell_type": "code",
   "execution_count": null,
   "id": "1aa786eb",
   "metadata": {
    "papermill": {
     "duration": null,
     "end_time": null,
     "exception": null,
     "start_time": null,
     "status": "pending"
    },
    "tags": []
   },
   "outputs": [],
   "source": [
    "df.info()"
   ]
  },
  {
   "cell_type": "code",
   "execution_count": null,
   "id": "aff3f4b8",
   "metadata": {
    "papermill": {
     "duration": null,
     "end_time": null,
     "exception": null,
     "start_time": null,
     "status": "pending"
    },
    "tags": []
   },
   "outputs": [],
   "source": [
    "# Change Quantity datatype from float to int.\n",
    "df[\"Quantity\"] = df[\"Quantity\"].astype(int)"
   ]
  },
  {
   "cell_type": "code",
   "execution_count": null,
   "id": "4e7592f4",
   "metadata": {
    "papermill": {
     "duration": null,
     "end_time": null,
     "exception": null,
     "start_time": null,
     "status": "pending"
    },
    "tags": []
   },
   "outputs": [],
   "source": [
    "# Checking for duplicates\n",
    "df.duplicated().sum()"
   ]
  },
  {
   "cell_type": "code",
   "execution_count": null,
   "id": "03ca2b6e",
   "metadata": {
    "papermill": {
     "duration": null,
     "end_time": null,
     "exception": null,
     "start_time": null,
     "status": "pending"
    },
    "tags": []
   },
   "outputs": [],
   "source": [
    "# Dropping duplicates\n",
    "df.drop_duplicates(inplace = True)"
   ]
  },
  {
   "cell_type": "code",
   "execution_count": null,
   "id": "fc16b29f",
   "metadata": {
    "papermill": {
     "duration": null,
     "end_time": null,
     "exception": null,
     "start_time": null,
     "status": "pending"
    },
    "tags": []
   },
   "outputs": [],
   "source": [
    "#checking for null values\n",
    "df.isnull().sum()"
   ]
  },
  {
   "cell_type": "markdown",
   "id": "17f94141",
   "metadata": {
    "papermill": {
     "duration": null,
     "end_time": null,
     "exception": null,
     "start_time": null,
     "status": "pending"
    },
    "tags": []
   },
   "source": [
    "#### There are no null values in the dataframe"
   ]
  },
  {
   "cell_type": "code",
   "execution_count": null,
   "id": "dbbbd5a0",
   "metadata": {
    "papermill": {
     "duration": null,
     "end_time": null,
     "exception": null,
     "start_time": null,
     "status": "pending"
    },
    "tags": []
   },
   "outputs": [],
   "source": [
    "df.columns"
   ]
  },
  {
   "cell_type": "markdown",
   "id": "67a5e6ea",
   "metadata": {
    "papermill": {
     "duration": null,
     "end_time": null,
     "exception": null,
     "start_time": null,
     "status": "pending"
    },
    "tags": []
   },
   "source": [
    "#### The dataframe contains 18 columns which are 'Distributor', 'Customer Name', 'City', 'Country', 'Latitude', 'Longitude', 'Channel', 'Sub-channel', 'Product Name', 'Product Class', 'Quantity', 'Price', 'Sales', 'Month', 'Year', 'Name of Sales Rep', 'Manager', 'Sales Team'. "
   ]
  },
  {
   "cell_type": "code",
   "execution_count": null,
   "id": "060b4615",
   "metadata": {
    "papermill": {
     "duration": null,
     "end_time": null,
     "exception": null,
     "start_time": null,
     "status": "pending"
    },
    "tags": []
   },
   "outputs": [],
   "source": [
    "df.describe()\n"
   ]
  },
  {
   "cell_type": "markdown",
   "id": "03006fb3",
   "metadata": {
    "papermill": {
     "duration": null,
     "end_time": null,
     "exception": null,
     "start_time": null,
     "status": "pending"
    },
    "tags": []
   },
   "source": [
    "#### It appears that there are negative values for in the sales and Quantity. This maybe the quantity of products returned and the negative sales the cost implication of the returns."
   ]
  },
  {
   "cell_type": "code",
   "execution_count": null,
   "id": "ee3b3379",
   "metadata": {
    "papermill": {
     "duration": null,
     "end_time": null,
     "exception": null,
     "start_time": null,
     "status": "pending"
    },
    "tags": []
   },
   "outputs": [],
   "source": [
    "# Feature Engineering\n",
    "negative_sales_and_Quantity = df[[\"Quantity\", \"Sales\"]] < 0\n",
    "negative_sales_and_Quantity.head()"
   ]
  },
  {
   "cell_type": "code",
   "execution_count": null,
   "id": "c2e3e362",
   "metadata": {
    "papermill": {
     "duration": null,
     "end_time": null,
     "exception": null,
     "start_time": null,
     "status": "pending"
    },
    "tags": []
   },
   "outputs": [],
   "source": [
    "df[\"Product_status\"] = np.where( df[\"Quantity\"] < 0, \"Returned\", \"Accepted\")\n",
    "df.head()"
   ]
  },
  {
   "cell_type": "code",
   "execution_count": null,
   "id": "8abe5ed8",
   "metadata": {
    "papermill": {
     "duration": null,
     "end_time": null,
     "exception": null,
     "start_time": null,
     "status": "pending"
    },
    "tags": []
   },
   "outputs": [],
   "source": [
    "dir(np)"
   ]
  },
  {
   "cell_type": "code",
   "execution_count": null,
   "id": "01b02404",
   "metadata": {
    "papermill": {
     "duration": null,
     "end_time": null,
     "exception": null,
     "start_time": null,
     "status": "pending"
    },
    "tags": []
   },
   "outputs": [],
   "source": [
    "(df[[\"Quantity\",\"Sales\"]] < 0).sum()"
   ]
  },
  {
   "cell_type": "markdown",
   "id": "83286a25",
   "metadata": {
    "papermill": {
     "duration": null,
     "end_time": null,
     "exception": null,
     "start_time": null,
     "status": "pending"
    },
    "tags": []
   },
   "source": [
    "#### when Quantity field had a negative value, so does Sales field."
   ]
  },
  {
   "cell_type": "code",
   "execution_count": null,
   "id": "ac8a55e1",
   "metadata": {
    "papermill": {
     "duration": null,
     "end_time": null,
     "exception": null,
     "start_time": null,
     "status": "pending"
    },
    "tags": []
   },
   "outputs": [],
   "source": [
    "# Checking if the Quantity field had values = 0\n",
    "(df[\"Quantity\"] == 0).any()"
   ]
  },
  {
   "cell_type": "code",
   "execution_count": null,
   "id": "7d984b7f",
   "metadata": {
    "papermill": {
     "duration": null,
     "end_time": null,
     "exception": null,
     "start_time": null,
     "status": "pending"
    },
    "tags": []
   },
   "outputs": [],
   "source": [
    "# Checking if the Sales field had values = 0\n",
    "(df[\"Sales\"] == 0).any()"
   ]
  },
  {
   "cell_type": "code",
   "execution_count": null,
   "id": "a05aa961",
   "metadata": {
    "papermill": {
     "duration": null,
     "end_time": null,
     "exception": null,
     "start_time": null,
     "status": "pending"
    },
    "tags": []
   },
   "outputs": [],
   "source": [
    "# Subsetting the dataframe for observations without zero values in the Sales and Quantity fields\n",
    "df_clean = df[((df[\"Quantity\"] != 0) & (df[\"Sales\"] != 0))]\n",
    "df_clean.head()"
   ]
  },
  {
   "cell_type": "code",
   "execution_count": null,
   "id": "682184a6",
   "metadata": {
    "papermill": {
     "duration": null,
     "end_time": null,
     "exception": null,
     "start_time": null,
     "status": "pending"
    },
    "tags": []
   },
   "outputs": [],
   "source": []
  },
  {
   "cell_type": "markdown",
   "id": "e33632c5",
   "metadata": {
    "papermill": {
     "duration": null,
     "end_time": null,
     "exception": null,
     "start_time": null,
     "status": "pending"
    },
    "tags": []
   },
   "source": [
    "## Exploratory Data Analysis"
   ]
  },
  {
   "cell_type": "code",
   "execution_count": null,
   "id": "10733e11",
   "metadata": {
    "papermill": {
     "duration": null,
     "end_time": null,
     "exception": null,
     "start_time": null,
     "status": "pending"
    },
    "tags": []
   },
   "outputs": [],
   "source": [
    "df_clean.columns"
   ]
  },
  {
   "cell_type": "code",
   "execution_count": null,
   "id": "c09d68fd",
   "metadata": {
    "papermill": {
     "duration": null,
     "end_time": null,
     "exception": null,
     "start_time": null,
     "status": "pending"
    },
    "tags": []
   },
   "outputs": [],
   "source": [
    "# Number of sales\n",
    "df_clean[\"Sales\"].count()"
   ]
  },
  {
   "cell_type": "markdown",
   "id": "3d5aecd6",
   "metadata": {
    "papermill": {
     "duration": null,
     "end_time": null,
     "exception": null,
     "start_time": null,
     "status": "pending"
    },
    "tags": []
   },
   "source": [
    "#### There are 254,050 sales recorded."
   ]
  },
  {
   "cell_type": "code",
   "execution_count": null,
   "id": "f3006191",
   "metadata": {
    "papermill": {
     "duration": null,
     "end_time": null,
     "exception": null,
     "start_time": null,
     "status": "pending"
    },
    "tags": []
   },
   "outputs": [],
   "source": [
    "# Average sales per customer\n",
    "avg_sales_per_cust = df_clean[\"Sales\"].sum()/ df_clean[\"Customer Name\"].nunique()\n",
    "print(f\"The Average Sales per Customer is ${round(avg_sales_per_cust, 2)}\")"
   ]
  },
  {
   "cell_type": "markdown",
   "id": "cbc2aed5",
   "metadata": {
    "papermill": {
     "duration": null,
     "end_time": null,
     "exception": null,
     "start_time": null,
     "status": "pending"
    },
    "tags": []
   },
   "source": [
    "#### The Average Sales per Customer is $15, 711,022.28"
   ]
  },
  {
   "cell_type": "code",
   "execution_count": null,
   "id": "74ddb685",
   "metadata": {
    "papermill": {
     "duration": null,
     "end_time": null,
     "exception": null,
     "start_time": null,
     "status": "pending"
    },
    "tags": []
   },
   "outputs": [],
   "source": [
    "# Average Sales in Period\n",
    "avg_sales_in_period = df_clean[\"Sales\"].mean()\n",
    "print(f\"The Average Sales in Period is ${round(avg_sales_in_period, 2)}\")"
   ]
  },
  {
   "cell_type": "markdown",
   "id": "c394108c",
   "metadata": {
    "papermill": {
     "duration": null,
     "end_time": null,
     "exception": null,
     "start_time": null,
     "status": "pending"
    },
    "tags": []
   },
   "source": [
    "#### The Average Sales in Period is $46,443.53"
   ]
  },
  {
   "cell_type": "code",
   "execution_count": null,
   "id": "e23b7489",
   "metadata": {
    "papermill": {
     "duration": null,
     "end_time": null,
     "exception": null,
     "start_time": null,
     "status": "pending"
    },
    "tags": []
   },
   "outputs": [],
   "source": [
    "df_clean['Distributor'].nunique()"
   ]
  },
  {
   "cell_type": "markdown",
   "id": "f97a0259",
   "metadata": {
    "papermill": {
     "duration": null,
     "end_time": null,
     "exception": null,
     "start_time": null,
     "status": "pending"
    },
    "tags": []
   },
   "source": [
    "#### The Manufacturing company has 29 Distributors partnering with them"
   ]
  },
  {
   "cell_type": "code",
   "execution_count": null,
   "id": "cc4cba0b",
   "metadata": {
    "papermill": {
     "duration": null,
     "end_time": null,
     "exception": null,
     "start_time": null,
     "status": "pending"
    },
    "tags": []
   },
   "outputs": [],
   "source": [
    "df_clean['Customer Name'].nunique()"
   ]
  },
  {
   "cell_type": "markdown",
   "id": "693f05a7",
   "metadata": {
    "papermill": {
     "duration": null,
     "end_time": null,
     "exception": null,
     "start_time": null,
     "status": "pending"
    },
    "tags": []
   },
   "source": [
    "#### There are 751 Customers purchasing the Pharmacy Products"
   ]
  },
  {
   "cell_type": "code",
   "execution_count": null,
   "id": "9deec26b",
   "metadata": {
    "papermill": {
     "duration": null,
     "end_time": null,
     "exception": null,
     "start_time": null,
     "status": "pending"
    },
    "tags": []
   },
   "outputs": [],
   "source": [
    "df['City'].nunique()"
   ]
  },
  {
   "cell_type": "markdown",
   "id": "e78c9f11",
   "metadata": {
    "papermill": {
     "duration": null,
     "end_time": null,
     "exception": null,
     "start_time": null,
     "status": "pending"
    },
    "tags": []
   },
   "source": [
    "#### Customers are distributed over 749 Cities"
   ]
  },
  {
   "cell_type": "code",
   "execution_count": null,
   "id": "55024ff0",
   "metadata": {
    "papermill": {
     "duration": null,
     "end_time": null,
     "exception": null,
     "start_time": null,
     "status": "pending"
    },
    "tags": []
   },
   "outputs": [],
   "source": [
    "print(df['Country'].nunique())\n",
    "print(df['Country'].unique())"
   ]
  },
  {
   "cell_type": "markdown",
   "id": "34047564",
   "metadata": {
    "papermill": {
     "duration": null,
     "end_time": null,
     "exception": null,
     "start_time": null,
     "status": "pending"
    },
    "tags": []
   },
   "source": [
    "#### The products of the Pharmacy company are distributed in 2 countries. These countries are Poland and Germany"
   ]
  },
  {
   "cell_type": "code",
   "execution_count": null,
   "id": "5f7e9a7b",
   "metadata": {
    "papermill": {
     "duration": null,
     "end_time": null,
     "exception": null,
     "start_time": null,
     "status": "pending"
    },
    "tags": []
   },
   "outputs": [],
   "source": [
    "print(df['Channel'].nunique())\n",
    "print(df['Channel'].unique())"
   ]
  },
  {
   "cell_type": "markdown",
   "id": "777e7086",
   "metadata": {
    "papermill": {
     "duration": null,
     "end_time": null,
     "exception": null,
     "start_time": null,
     "status": "pending"
    },
    "tags": []
   },
   "source": [
    "#### Products are distributed via two channels: Hospital and Pharmacy."
   ]
  },
  {
   "cell_type": "code",
   "execution_count": null,
   "id": "ed076baf",
   "metadata": {
    "papermill": {
     "duration": null,
     "end_time": null,
     "exception": null,
     "start_time": null,
     "status": "pending"
    },
    "tags": []
   },
   "outputs": [],
   "source": [
    "print(df[\"Sub-channel\"].nunique())\n",
    "print(df[\"Sub-channel\"].unique())"
   ]
  },
  {
   "cell_type": "markdown",
   "id": "f98c0712",
   "metadata": {
    "papermill": {
     "duration": null,
     "end_time": null,
     "exception": null,
     "start_time": null,
     "status": "pending"
    },
    "tags": []
   },
   "source": [
    "#### Product distribution  Sub-channel are Private, Retail, Institution and Government."
   ]
  },
  {
   "cell_type": "code",
   "execution_count": null,
   "id": "29c35cfa",
   "metadata": {
    "papermill": {
     "duration": null,
     "end_time": null,
     "exception": null,
     "start_time": null,
     "status": "pending"
    },
    "tags": []
   },
   "outputs": [],
   "source": [
    "df['Product Name'].nunique()"
   ]
  },
  {
   "cell_type": "markdown",
   "id": "e71b6b62",
   "metadata": {
    "papermill": {
     "duration": null,
     "end_time": null,
     "exception": null,
     "start_time": null,
     "status": "pending"
    },
    "tags": []
   },
   "source": [
    "#### The Pharmacy company produces 240 products."
   ]
  },
  {
   "cell_type": "code",
   "execution_count": null,
   "id": "44c06b41",
   "metadata": {
    "papermill": {
     "duration": null,
     "end_time": null,
     "exception": null,
     "start_time": null,
     "status": "pending"
    },
    "tags": []
   },
   "outputs": [],
   "source": [
    "print(df['Product Class'].nunique())\n",
    "print(df['Product Class'].unique())"
   ]
  },
  {
   "cell_type": "markdown",
   "id": "0726934e",
   "metadata": {
    "papermill": {
     "duration": null,
     "end_time": null,
     "exception": null,
     "start_time": null,
     "status": "pending"
    },
    "tags": []
   },
   "source": [
    "#### These Products are under 6 product classes or categories: Mood Stabilizers, Antibiotics, Analgesics, Antiseptics, Antipiretics and Antimalarial"
   ]
  },
  {
   "cell_type": "code",
   "execution_count": null,
   "id": "4714ad3a",
   "metadata": {
    "papermill": {
     "duration": null,
     "end_time": null,
     "exception": null,
     "start_time": null,
     "status": "pending"
    },
    "tags": []
   },
   "outputs": [],
   "source": [
    "print(df['Sales Team'].nunique())\n",
    "print(df['Sales Team'].unique())"
   ]
  },
  {
   "cell_type": "markdown",
   "id": "12c1cce0",
   "metadata": {
    "papermill": {
     "duration": null,
     "end_time": null,
     "exception": null,
     "start_time": null,
     "status": "pending"
    },
    "tags": []
   },
   "source": [
    "#### There are 4 Sales Team: Delta, Bravo, Alfa and Charlie"
   ]
  },
  {
   "cell_type": "code",
   "execution_count": null,
   "id": "b7c07d9c",
   "metadata": {
    "papermill": {
     "duration": null,
     "end_time": null,
     "exception": null,
     "start_time": null,
     "status": "pending"
    },
    "tags": []
   },
   "outputs": [],
   "source": [
    "# Checking for the proportion of returned products\n",
    "prop_of_returned_products = df[\"Product_status\"].value_counts(normalize = True)\n",
    "prop_of_returned_products"
   ]
  },
  {
   "cell_type": "code",
   "execution_count": null,
   "id": "42786d10",
   "metadata": {
    "papermill": {
     "duration": null,
     "end_time": null,
     "exception": null,
     "start_time": null,
     "status": "pending"
    },
    "tags": []
   },
   "outputs": [],
   "source": [
    "# Bar chart of counts of returned and accepted products\n",
    "prop_of_returned_products.plot(kind = \"bar\", title = \"Proportion of Returned Products\")\n",
    "plt.xlabel(\"Product Status\")\n",
    "plt.ylabel(\"Proportion of Products\");"
   ]
  },
  {
   "cell_type": "markdown",
   "id": "7c8c11a9",
   "metadata": {
    "papermill": {
     "duration": null,
     "end_time": null,
     "exception": null,
     "start_time": null,
     "status": "pending"
    },
    "tags": []
   },
   "source": [
    "#### Less than 1% of products were returned."
   ]
  },
  {
   "cell_type": "markdown",
   "id": "14c8d14d",
   "metadata": {
    "papermill": {
     "duration": null,
     "end_time": null,
     "exception": null,
     "start_time": null,
     "status": "pending"
    },
    "tags": []
   },
   "source": [
    "#### Both Quantity and Sales field contain values which are equals to zero."
   ]
  },
  {
   "cell_type": "code",
   "execution_count": null,
   "id": "aa8e930e",
   "metadata": {
    "papermill": {
     "duration": null,
     "end_time": null,
     "exception": null,
     "start_time": null,
     "status": "pending"
    },
    "tags": []
   },
   "outputs": [],
   "source": [
    "df_clean.columns"
   ]
  },
  {
   "cell_type": "code",
   "execution_count": null,
   "id": "a7cb94fd",
   "metadata": {
    "papermill": {
     "duration": null,
     "end_time": null,
     "exception": null,
     "start_time": null,
     "status": "pending"
    },
    "tags": []
   },
   "outputs": [],
   "source": [
    "df_clean.head()"
   ]
  },
  {
   "cell_type": "code",
   "execution_count": null,
   "id": "c67e8f40",
   "metadata": {
    "papermill": {
     "duration": null,
     "end_time": null,
     "exception": null,
     "start_time": null,
     "status": "pending"
    },
    "tags": []
   },
   "outputs": [],
   "source": [
    "# What is total sale\n",
    "total_sales = round(df_clean[\"Sales\"].sum(), 2)\n",
    "print(f\"Total Sales of the Pharmacy Company: ${total_sales}\")"
   ]
  },
  {
   "cell_type": "markdown",
   "id": "52f75d4b",
   "metadata": {
    "papermill": {
     "duration": null,
     "end_time": null,
     "exception": null,
     "start_time": null,
     "status": "pending"
    },
    "tags": []
   },
   "source": [
    "#### Total Sales of the Pharmacy Company: $11,798,977,742.2"
   ]
  },
  {
   "cell_type": "code",
   "execution_count": null,
   "id": "369c2d03",
   "metadata": {
    "papermill": {
     "duration": null,
     "end_time": null,
     "exception": null,
     "start_time": null,
     "status": "pending"
    },
    "tags": []
   },
   "outputs": [],
   "source": [
    "Total_sales_and_quantity_by_year = (\n",
    "    df_clean.groupby(\"Year\").agg(\n",
    "        Total_sales = (\"Sales\", \"sum\"),\n",
    "        Total_Quantity = (\"Quantity\", \"sum\")\n",
    "    )\n",
    ")\n",
    "print(Total_sales_and_quantity_by_year.sort_values(by=\"Total_sales\", ascending = False))"
   ]
  },
  {
   "cell_type": "markdown",
   "id": "b4736a1c",
   "metadata": {
    "papermill": {
     "duration": null,
     "end_time": null,
     "exception": null,
     "start_time": null,
     "status": "pending"
    },
    "tags": []
   },
   "source": [
    "#### Most quantity were sold and Most sales was made in the year 2018."
   ]
  },
  {
   "cell_type": "code",
   "execution_count": null,
   "id": "53b98b5f",
   "metadata": {
    "papermill": {
     "duration": null,
     "end_time": null,
     "exception": null,
     "start_time": null,
     "status": "pending"
    },
    "tags": []
   },
   "outputs": [],
   "source": [
    "Total_sales_and_quantity_by_country = (\n",
    "    df_clean.groupby(\"Country\").agg(\n",
    "        Total_sales = (\"Sales\", \"sum\"),\n",
    "        Total_quantity = (\"Quantity\", \"sum\")\n",
    "    )\n",
    ")\n",
    "print(Total_sales_and_quantity_by_country.sort_values(by=\"Total_sales\", ascending = False))"
   ]
  },
  {
   "cell_type": "markdown",
   "id": "b6c53d3a",
   "metadata": {
    "papermill": {
     "duration": null,
     "end_time": null,
     "exception": null,
     "start_time": null,
     "status": "pending"
    },
    "tags": []
   },
   "source": [
    "#### Most sales were made in Germany and likewise most quantity was sold there"
   ]
  },
  {
   "cell_type": "code",
   "execution_count": null,
   "id": "b59f9dbd",
   "metadata": {
    "papermill": {
     "duration": null,
     "end_time": null,
     "exception": null,
     "start_time": null,
     "status": "pending"
    },
    "tags": []
   },
   "outputs": [],
   "source": [
    "Total_sales_and_quantity_by_channel = (\n",
    "    df_clean.groupby(\"Channel\").agg(\n",
    "        Total_sales = (\"Sales\", \"sum\"),\n",
    "        Total_quantity = (\"Quantity\", \"sum\")\n",
    "    )\n",
    ")\n",
    "print(Total_sales_and_quantity_by_channel.sort_values(by=\"Total_sales\", ascending = False))\n"
   ]
  },
  {
   "cell_type": "code",
   "execution_count": null,
   "id": "723efb48",
   "metadata": {
    "papermill": {
     "duration": null,
     "end_time": null,
     "exception": null,
     "start_time": null,
     "status": "pending"
    },
    "tags": []
   },
   "outputs": [],
   "source": [
    "Country_Channel_Sales_pivot_table = pd.pivot_table(\n",
    "    data=df_clean, \n",
    "    columns= \"Channel\", \n",
    "    index= \"Country\", \n",
    "    values= [\"Sales\"],\n",
    "    aggfunc = \"sum\")\n",
    "Country_Channel_pivot_table"
   ]
  },
  {
   "cell_type": "code",
   "execution_count": null,
   "id": "5c2ede52",
   "metadata": {
    "papermill": {
     "duration": null,
     "end_time": null,
     "exception": null,
     "start_time": null,
     "status": "pending"
    },
    "tags": []
   },
   "outputs": [],
   "source": [
    "sns.heatmap(Country_Channel_Sales_pivot_table)\n",
    "plt.title(\"Heatmap of Sales by Country and Channel\")\n",
    "plt.xlabel(\"Channel\");"
   ]
  },
  {
   "cell_type": "code",
   "execution_count": null,
   "id": "ee00d23b",
   "metadata": {
    "papermill": {
     "duration": null,
     "end_time": null,
     "exception": null,
     "start_time": null,
     "status": "pending"
    },
    "tags": []
   },
   "outputs": [],
   "source": [
    "dir(sns)"
   ]
  },
  {
   "cell_type": "code",
   "execution_count": null,
   "id": "427dc666",
   "metadata": {
    "papermill": {
     "duration": null,
     "end_time": null,
     "exception": null,
     "start_time": null,
     "status": "pending"
    },
    "tags": []
   },
   "outputs": [],
   "source": [
    "Country_Channel_Quantity_pivot_table = pd.pivot_table(\n",
    "    data=df_clean, \n",
    "    columns= \"Channel\", \n",
    "    index= \"Country\", \n",
    "    values= [\"Quantity\"],\n",
    "    aggfunc = \"sum\")\n",
    "Country_Channel_Quantity_pivot_table"
   ]
  },
  {
   "cell_type": "code",
   "execution_count": null,
   "id": "7eaf3079",
   "metadata": {
    "papermill": {
     "duration": null,
     "end_time": null,
     "exception": null,
     "start_time": null,
     "status": "pending"
    },
    "tags": []
   },
   "outputs": [],
   "source": [
    "sns.heatmap(Country_Channel_Quantity_pivot_table)\n",
    "plt.title(\"Heatmap of Sales by Country and Channel\")\n",
    "plt.xlabel(\"Channel\");"
   ]
  },
  {
   "cell_type": "code",
   "execution_count": null,
   "id": "71451a27",
   "metadata": {
    "papermill": {
     "duration": null,
     "end_time": null,
     "exception": null,
     "start_time": null,
     "status": "pending"
    },
    "tags": []
   },
   "outputs": [],
   "source": [
    "Total_sales_and_quantity_by_distributor = (\n",
    "    df_clean.groupby(\"Distributor\").agg(\n",
    "        Total_sales = (\"Sales\", \"sum\"),\n",
    "        Total_Quantity = (\"Quantity\", \"sum\")\n",
    "    )\n",
    ")\n",
    "top_ten_distributors = (Total_sales_and_quantity_by_distributor.sort_values(by=\"Total_sales\", ascending = False)).head(10)\n",
    "top_ten_distributors"
   ]
  },
  {
   "cell_type": "markdown",
   "id": "1859a1b1",
   "metadata": {
    "papermill": {
     "duration": null,
     "end_time": null,
     "exception": null,
     "start_time": null,
     "status": "pending"
    },
    "tags": []
   },
   "source": [
    "#### Top ten Distributors"
   ]
  },
  {
   "cell_type": "code",
   "execution_count": null,
   "id": "620eb140",
   "metadata": {
    "papermill": {
     "duration": null,
     "end_time": null,
     "exception": null,
     "start_time": null,
     "status": "pending"
    },
    "tags": []
   },
   "outputs": [],
   "source": [
    "bottom_ten_distributors = (Total_sales_and_quantity_by_distributor.sort_values(by=\"Total_sales\", ascending = False)).tail(10)\n",
    "bottom_ten_distributors"
   ]
  },
  {
   "cell_type": "markdown",
   "id": "81534d1b",
   "metadata": {
    "papermill": {
     "duration": null,
     "end_time": null,
     "exception": null,
     "start_time": null,
     "status": "pending"
    },
    "tags": []
   },
   "source": [
    "#### Bottom ten Distributors"
   ]
  },
  {
   "cell_type": "code",
   "execution_count": null,
   "id": "341a2e81",
   "metadata": {
    "papermill": {
     "duration": null,
     "end_time": null,
     "exception": null,
     "start_time": null,
     "status": "pending"
    },
    "tags": []
   },
   "outputs": [],
   "source": [
    "df_clean.columns"
   ]
  },
  {
   "cell_type": "code",
   "execution_count": null,
   "id": "103ea19d",
   "metadata": {
    "papermill": {
     "duration": null,
     "end_time": null,
     "exception": null,
     "start_time": null,
     "status": "pending"
    },
    "tags": []
   },
   "outputs": [],
   "source": [
    "Total_sales_and_quantity_by_customer = (\n",
    "    df_clean.groupby(\"Customer Name\").agg(\n",
    "        Total_sales = (\"Sales\", \"sum\"),\n",
    "        Total_Quantity = (\"Quantity\", \"sum\")\n",
    "    )\n",
    ")\n",
    "top_ten_customers = (Total_sales_and_quantity_by_customer.sort_values(by=\"Total_sales\", ascending = False)).head(10)\n",
    "top_ten_customers"
   ]
  },
  {
   "cell_type": "markdown",
   "id": "2610e1b3",
   "metadata": {
    "papermill": {
     "duration": null,
     "end_time": null,
     "exception": null,
     "start_time": null,
     "status": "pending"
    },
    "tags": []
   },
   "source": [
    "#### Top ten customers "
   ]
  },
  {
   "cell_type": "code",
   "execution_count": null,
   "id": "ab01214e",
   "metadata": {
    "papermill": {
     "duration": null,
     "end_time": null,
     "exception": null,
     "start_time": null,
     "status": "pending"
    },
    "tags": []
   },
   "outputs": [],
   "source": [
    "Total_sales_and_quantity_by_city = (\n",
    "    df_clean.groupby([\"Country\", \"City\"]).agg(\n",
    "        Total_sales = (\"Sales\", \"sum\"),\n",
    "        Total_Quantity = (\"Quantity\", \"sum\")\n",
    "    )\n",
    ")\n",
    "top_ten_cities = (Total_sales_and_quantity_by_city.sort_values(by=\"Total_sales\", ascending = False)).head(10)\n",
    "top_ten_cities"
   ]
  },
  {
   "cell_type": "markdown",
   "id": "47726ef9",
   "metadata": {
    "papermill": {
     "duration": null,
     "end_time": null,
     "exception": null,
     "start_time": null,
     "status": "pending"
    },
    "tags": []
   },
   "source": [
    "#### All the top ten cities are in Germany"
   ]
  },
  {
   "cell_type": "code",
   "execution_count": null,
   "id": "cf60079b",
   "metadata": {
    "papermill": {
     "duration": null,
     "end_time": null,
     "exception": null,
     "start_time": null,
     "status": "pending"
    },
    "tags": []
   },
   "outputs": [],
   "source": [
    "Total_sales_and_quantity_by_product_class = (\n",
    "    df_clean.groupby(\"Product Class\").agg(\n",
    "        Total_sales = (\"Sales\", \"sum\"),\n",
    "        Total_Quantity = (\"Quantity\", \"sum\")\n",
    "    )\n",
    ")\n",
    "sales_quantity_by_product_class = (Total_sales_and_quantity_by_product_class.sort_values(by=\"Total_sales\", ascending = False))\n",
    "sales_quantity_by_product_class"
   ]
  },
  {
   "cell_type": "code",
   "execution_count": null,
   "id": "afbd7487",
   "metadata": {
    "papermill": {
     "duration": null,
     "end_time": null,
     "exception": null,
     "start_time": null,
     "status": "pending"
    },
    "tags": []
   },
   "outputs": [],
   "source": [
    "sales_quantity_by_product_class[\"Total_sales\"].plot(kind=\"bar\", title= \"Total Sales by Product Class\");"
   ]
  },
  {
   "cell_type": "code",
   "execution_count": null,
   "id": "2657e7ef",
   "metadata": {
    "papermill": {
     "duration": null,
     "end_time": null,
     "exception": null,
     "start_time": null,
     "status": "pending"
    },
    "tags": []
   },
   "outputs": [],
   "source": [
    "sales_quantity_by_product_class[\"Total_Quantity\"].plot(kind=\"bar\", title= \"Total Quantity by Product Class\");"
   ]
  },
  {
   "cell_type": "markdown",
   "id": "bc254524",
   "metadata": {
    "papermill": {
     "duration": null,
     "end_time": null,
     "exception": null,
     "start_time": null,
     "status": "pending"
    },
    "tags": []
   },
   "source": [
    "#### Analgesic and Antiseptics were the top performing product class"
   ]
  },
  {
   "cell_type": "code",
   "execution_count": null,
   "id": "1d4879e6",
   "metadata": {
    "papermill": {
     "duration": null,
     "end_time": null,
     "exception": null,
     "start_time": null,
     "status": "pending"
    },
    "tags": []
   },
   "outputs": [],
   "source": [
    "Total_sales_and_quantity_by_product_name = (\n",
    "    df_clean.groupby(\"Product Name\").agg(\n",
    "        Total_sales = (\"Sales\", \"sum\"),\n",
    "        Total_Quantity = (\"Quantity\", \"sum\")\n",
    "    )\n",
    ")\n",
    "top_ten_products = (Total_sales_and_quantity_by_product_name.sort_values(by=\"Total_sales\", ascending = False)).head(10)\n",
    "top_ten_products"
   ]
  },
  {
   "cell_type": "code",
   "execution_count": null,
   "id": "661ab210",
   "metadata": {
    "papermill": {
     "duration": null,
     "end_time": null,
     "exception": null,
     "start_time": null,
     "status": "pending"
    },
    "tags": []
   },
   "outputs": [],
   "source": [
    "bottom_ten_products = (Total_sales_and_quantity_by_product_name.sort_values(by=\"Total_sales\", ascending = False)).tail(10)\n",
    "bottom_ten_products"
   ]
  },
  {
   "cell_type": "code",
   "execution_count": null,
   "id": "c260afa1",
   "metadata": {
    "papermill": {
     "duration": null,
     "end_time": null,
     "exception": null,
     "start_time": null,
     "status": "pending"
    },
    "scrolled": true,
    "tags": []
   },
   "outputs": [],
   "source": [
    "Total_sales_quantity_by_status = df.groupby(\"Product_status\").agg(\n",
    "    total_sales = (\"Sales\", \"sum\"),\n",
    "    total_quantity = (\"Quantity\", \"sum\")\n",
    ")\n",
    "Total_sales_quantity_by_status"
   ]
  },
  {
   "cell_type": "code",
   "execution_count": null,
   "id": "25acbe23",
   "metadata": {
    "papermill": {
     "duration": null,
     "end_time": null,
     "exception": null,
     "start_time": null,
     "status": "pending"
    },
    "tags": []
   },
   "outputs": [],
   "source": [
    "total_returned_product = df[df[\"Product_status\"] == \"Returned\"][\"Quantity\"].sum()"
   ]
  },
  {
   "cell_type": "code",
   "execution_count": null,
   "id": "cfa29529",
   "metadata": {
    "papermill": {
     "duration": null,
     "end_time": null,
     "exception": null,
     "start_time": null,
     "status": "pending"
    },
    "tags": []
   },
   "outputs": [],
   "source": [
    "total_returned_product = df[df[\"Product_status\"] == \"Returned\"][\"Quantity\"].sum()\n",
    "\n",
    "total_accepted_product = df[df[\"Product_status\"] == \"Accepted\"][\"Quantity\"].sum()\n",
    "\n",
    "print(f\"Total Quantity of Product Returned: {total_returned_product}\")\n",
    "print(f\"Total Quantity of Product Accepted: {total_accepted_product}\")"
   ]
  },
  {
   "cell_type": "code",
   "execution_count": null,
   "id": "4b5152e5",
   "metadata": {
    "papermill": {
     "duration": null,
     "end_time": null,
     "exception": null,
     "start_time": null,
     "status": "pending"
    },
    "tags": []
   },
   "outputs": [],
   "source": [
    "real_quantity_sold = total_accepted_product - (-total_returned_product)\n",
    "print(f\"The True Quantity of Products Sold is {real_quantity_sold}\")"
   ]
  },
  {
   "cell_type": "markdown",
   "id": "038e36c0",
   "metadata": {
    "papermill": {
     "duration": null,
     "end_time": null,
     "exception": null,
     "start_time": null,
     "status": "pending"
    },
    "tags": []
   },
   "source": [
    "#### The True Quantity of Products Sold is 28,678,699"
   ]
  },
  {
   "cell_type": "code",
   "execution_count": null,
   "id": "a3ea33dd",
   "metadata": {
    "papermill": {
     "duration": null,
     "end_time": null,
     "exception": null,
     "start_time": null,
     "status": "pending"
    },
    "tags": []
   },
   "outputs": [],
   "source": [
    "total_returned_product_cost = df[df[\"Product_status\"] == \"Returned\"][\"Sales\"].sum()\n",
    "\n",
    "total_accepted_product_sales = df[df[\"Product_status\"] == \"Accepted\"][\"Sales\"].sum()\n",
    "print(f\"Total Cost of Product Returned: ${total_returned_product_cost}\")\n",
    "print(f\"Total Sales of Product Accepted: ${round(total_accepted_product_sales, 2)})\")"
   ]
  },
  {
   "cell_type": "code",
   "execution_count": null,
   "id": "10297313",
   "metadata": {
    "papermill": {
     "duration": null,
     "end_time": null,
     "exception": null,
     "start_time": null,
     "status": "pending"
    },
    "tags": []
   },
   "outputs": [],
   "source": [
    "real_sales_amount = total_accepted_product_sales - (-total_returned_product_cost)\n",
    "print(f\"The True Sales of Products Amount is ${round(real_sales_amount, 2)}\")"
   ]
  },
  {
   "cell_type": "markdown",
   "id": "e452e759",
   "metadata": {
    "papermill": {
     "duration": null,
     "end_time": null,
     "exception": null,
     "start_time": null,
     "status": "pending"
    },
    "tags": []
   },
   "source": [
    "#### The True Sales of Products Amount is $11,798,977,742.2\n",
    "​"
   ]
  },
  {
   "cell_type": "code",
   "execution_count": null,
   "id": "0eede2f5",
   "metadata": {
    "papermill": {
     "duration": null,
     "end_time": null,
     "exception": null,
     "start_time": null,
     "status": "pending"
    },
    "tags": []
   },
   "outputs": [],
   "source": [
    "# Saving clean Dataset\n",
    "df_clean.to_csv(\"py-cleaned-pharmacy-data.csv\", index= False)"
   ]
  },
  {
   "cell_type": "code",
   "execution_count": null,
   "id": "659338c0",
   "metadata": {
    "papermill": {
     "duration": null,
     "end_time": null,
     "exception": null,
     "start_time": null,
     "status": "pending"
    },
    "tags": []
   },
   "outputs": [],
   "source": []
  },
  {
   "cell_type": "code",
   "execution_count": null,
   "id": "288ed5ef",
   "metadata": {
    "papermill": {
     "duration": null,
     "end_time": null,
     "exception": null,
     "start_time": null,
     "status": "pending"
    },
    "tags": []
   },
   "outputs": [],
   "source": []
  }
 ],
 "metadata": {
  "kernelspec": {
   "display_name": "Python 3 (ipykernel)",
   "language": "python",
   "name": "python3"
  },
  "language_info": {
   "codemirror_mode": {
    "name": "ipython",
    "version": 3
   },
   "file_extension": ".py",
   "mimetype": "text/x-python",
   "name": "python",
   "nbconvert_exporter": "python",
   "pygments_lexer": "ipython3",
   "version": "3.11.11"
  },
  "papermill": {
   "default_parameters": {},
   "duration": 10.664097,
   "end_time": "2025-06-24T17:24:36.324895",
   "environment_variables": {},
   "exception": true,
   "input_path": "__notebook__.ipynb",
   "output_path": "__notebook__.ipynb",
   "parameters": {},
   "start_time": "2025-06-24T17:24:25.660798",
   "version": "2.6.0"
  }
 },
 "nbformat": 4,
 "nbformat_minor": 5
}
